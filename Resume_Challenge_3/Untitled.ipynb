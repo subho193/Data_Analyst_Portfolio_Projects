{
 "cells": [
  {
   "cell_type": "code",
   "execution_count": 1,
   "id": "a0b0c92e",
   "metadata": {},
   "outputs": [],
   "source": [
    "import pandas as pd"
   ]
  },
  {
   "cell_type": "code",
   "execution_count": 2,
   "id": "ba736c9a",
   "metadata": {},
   "outputs": [],
   "source": [
    "df=pd.read_csv('fact_market_share.csv')"
   ]
  },
  {
   "cell_type": "code",
   "execution_count": 5,
   "id": "1832a934",
   "metadata": {},
   "outputs": [
    {
     "data": {
      "text/html": [
       "<div>\n",
       "<style scoped>\n",
       "    .dataframe tbody tr th:only-of-type {\n",
       "        vertical-align: middle;\n",
       "    }\n",
       "\n",
       "    .dataframe tbody tr th {\n",
       "        vertical-align: top;\n",
       "    }\n",
       "\n",
       "    .dataframe thead th {\n",
       "        text-align: right;\n",
       "    }\n",
       "</style>\n",
       "<table border=\"1\" class=\"dataframe\">\n",
       "  <thead>\n",
       "    <tr style=\"text-align: right;\">\n",
       "      <th></th>\n",
       "      <th>city_code</th>\n",
       "      <th>tmv_city_crores</th>\n",
       "      <th>ms_pct</th>\n",
       "    </tr>\n",
       "    <tr>\n",
       "      <th>company</th>\n",
       "      <th></th>\n",
       "      <th></th>\n",
       "      <th></th>\n",
       "    </tr>\n",
       "  </thead>\n",
       "  <tbody>\n",
       "    <tr>\n",
       "      <th>Atliqo</th>\n",
       "      <td>51232304</td>\n",
       "      <td>16607.85</td>\n",
       "      <td>2347.20</td>\n",
       "    </tr>\n",
       "    <tr>\n",
       "      <th>Britel</th>\n",
       "      <td>51232304</td>\n",
       "      <td>16607.85</td>\n",
       "      <td>3298.45</td>\n",
       "    </tr>\n",
       "    <tr>\n",
       "      <th>DADAFONE</th>\n",
       "      <td>51232304</td>\n",
       "      <td>16607.85</td>\n",
       "      <td>1236.74</td>\n",
       "    </tr>\n",
       "    <tr>\n",
       "      <th>Others</th>\n",
       "      <td>51232304</td>\n",
       "      <td>16607.85</td>\n",
       "      <td>867.79</td>\n",
       "    </tr>\n",
       "    <tr>\n",
       "      <th>PIO</th>\n",
       "      <td>51232304</td>\n",
       "      <td>16607.85</td>\n",
       "      <td>4249.85</td>\n",
       "    </tr>\n",
       "  </tbody>\n",
       "</table>\n",
       "</div>"
      ],
      "text/plain": [
       "          city_code  tmv_city_crores   ms_pct\n",
       "company                                      \n",
       "Atliqo     51232304         16607.85  2347.20\n",
       "Britel     51232304         16607.85  3298.45\n",
       "DADAFONE   51232304         16607.85  1236.74\n",
       "Others     51232304         16607.85   867.79\n",
       "PIO        51232304         16607.85  4249.85"
      ]
     },
     "execution_count": 5,
     "metadata": {},
     "output_type": "execute_result"
    }
   ],
   "source": [
    "df.groupby(by='company').sum()"
   ]
  },
  {
   "cell_type": "code",
   "execution_count": null,
   "id": "e68012e5",
   "metadata": {},
   "outputs": [],
   "source": []
  }
 ],
 "metadata": {
  "kernelspec": {
   "display_name": "Python 3 (ipykernel)",
   "language": "python",
   "name": "python3"
  },
  "language_info": {
   "codemirror_mode": {
    "name": "ipython",
    "version": 3
   },
   "file_extension": ".py",
   "mimetype": "text/x-python",
   "name": "python",
   "nbconvert_exporter": "python",
   "pygments_lexer": "ipython3",
   "version": "3.9.7"
  }
 },
 "nbformat": 4,
 "nbformat_minor": 5
}
