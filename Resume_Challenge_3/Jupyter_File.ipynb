{
 "cells": [
  {
   "cell_type": "code",
   "execution_count": 1,
   "id": "79bf76fc",
   "metadata": {},
   "outputs": [],
   "source": [
    "#Importing required libraries..\n",
    "import numpy as np\n",
    "import pandas as pd\n",
    "import seaborn as sns\n",
    "import matplotlib.pyplot as plt\n",
    "%matplotlib inline"
   ]
  },
  {
   "cell_type": "code",
   "execution_count": 3,
   "id": "ec3f3e54",
   "metadata": {},
   "outputs": [],
   "source": [
    "#Importing the Data..\n",
    "cities=pd.read_csv('dim_cities.csv')\n",
    "dates=pd.read_csv('dim_date.csv')\n",
    "plans=pd.read_csv('dim_plan.csv')\n",
    "metrics=pd.read_csv('fact_atliqo_metrics.csv')\n",
    "market_share=pd.read_csv('fact_market_share.csv')\n",
    "plan_revenue=pd.read_csv('fact_plan_revenue.csv')"
   ]
  },
  {
   "cell_type": "code",
   "execution_count": 4,
   "id": "bb4e6b32",
   "metadata": {},
   "outputs": [
    {
     "data": {
      "text/html": [
       "<div>\n",
       "<style scoped>\n",
       "    .dataframe tbody tr th:only-of-type {\n",
       "        vertical-align: middle;\n",
       "    }\n",
       "\n",
       "    .dataframe tbody tr th {\n",
       "        vertical-align: top;\n",
       "    }\n",
       "\n",
       "    .dataframe thead th {\n",
       "        text-align: right;\n",
       "    }\n",
       "</style>\n",
       "<table border=\"1\" class=\"dataframe\">\n",
       "  <thead>\n",
       "    <tr style=\"text-align: right;\">\n",
       "      <th></th>\n",
       "      <th>city_code</th>\n",
       "      <th>city_name</th>\n",
       "    </tr>\n",
       "  </thead>\n",
       "  <tbody>\n",
       "    <tr>\n",
       "      <th>0</th>\n",
       "      <td>400001</td>\n",
       "      <td>Mumbai</td>\n",
       "    </tr>\n",
       "    <tr>\n",
       "      <th>1</th>\n",
       "      <td>110001</td>\n",
       "      <td>Delhi</td>\n",
       "    </tr>\n",
       "    <tr>\n",
       "      <th>2</th>\n",
       "      <td>700001</td>\n",
       "      <td>Kolkata</td>\n",
       "    </tr>\n",
       "    <tr>\n",
       "      <th>3</th>\n",
       "      <td>560001</td>\n",
       "      <td>Bangalore</td>\n",
       "    </tr>\n",
       "    <tr>\n",
       "      <th>4</th>\n",
       "      <td>600001</td>\n",
       "      <td>Chennai</td>\n",
       "    </tr>\n",
       "  </tbody>\n",
       "</table>\n",
       "</div>"
      ],
      "text/plain": [
       "   city_code  city_name\n",
       "0     400001     Mumbai\n",
       "1     110001      Delhi\n",
       "2     700001    Kolkata\n",
       "3     560001  Bangalore\n",
       "4     600001    Chennai"
      ]
     },
     "execution_count": 4,
     "metadata": {},
     "output_type": "execute_result"
    }
   ],
   "source": [
    "cities.head()"
   ]
  },
  {
   "cell_type": "code",
   "execution_count": 57,
   "id": "f8f3ca09",
   "metadata": {},
   "outputs": [
    {
     "data": {
      "text/plain": [
       "(15, 2)"
      ]
     },
     "execution_count": 57,
     "metadata": {},
     "output_type": "execute_result"
    }
   ],
   "source": [
    "cities.shape"
   ]
  },
  {
   "cell_type": "code",
   "execution_count": 5,
   "id": "eb3ae5d4",
   "metadata": {},
   "outputs": [
    {
     "data": {
      "text/html": [
       "<div>\n",
       "<style scoped>\n",
       "    .dataframe tbody tr th:only-of-type {\n",
       "        vertical-align: middle;\n",
       "    }\n",
       "\n",
       "    .dataframe tbody tr th {\n",
       "        vertical-align: top;\n",
       "    }\n",
       "\n",
       "    .dataframe thead th {\n",
       "        text-align: right;\n",
       "    }\n",
       "</style>\n",
       "<table border=\"1\" class=\"dataframe\">\n",
       "  <thead>\n",
       "    <tr style=\"text-align: right;\">\n",
       "      <th></th>\n",
       "      <th>date</th>\n",
       "      <th>month_name</th>\n",
       "      <th>before/after_5g</th>\n",
       "      <th>time_period</th>\n",
       "    </tr>\n",
       "  </thead>\n",
       "  <tbody>\n",
       "    <tr>\n",
       "      <th>0</th>\n",
       "      <td>01-Jan-22</td>\n",
       "      <td>Jan</td>\n",
       "      <td>Before 5G</td>\n",
       "      <td>1</td>\n",
       "    </tr>\n",
       "    <tr>\n",
       "      <th>1</th>\n",
       "      <td>01-Feb-22</td>\n",
       "      <td>Feb</td>\n",
       "      <td>Before 5G</td>\n",
       "      <td>2</td>\n",
       "    </tr>\n",
       "    <tr>\n",
       "      <th>2</th>\n",
       "      <td>01-Mar-22</td>\n",
       "      <td>Mar</td>\n",
       "      <td>Before 5G</td>\n",
       "      <td>3</td>\n",
       "    </tr>\n",
       "    <tr>\n",
       "      <th>3</th>\n",
       "      <td>01-Apr-22</td>\n",
       "      <td>Apr</td>\n",
       "      <td>Before 5G</td>\n",
       "      <td>4</td>\n",
       "    </tr>\n",
       "    <tr>\n",
       "      <th>4</th>\n",
       "      <td>01-Jun-22</td>\n",
       "      <td>Jun</td>\n",
       "      <td>After 5G</td>\n",
       "      <td>1</td>\n",
       "    </tr>\n",
       "  </tbody>\n",
       "</table>\n",
       "</div>"
      ],
      "text/plain": [
       "        date month_name before/after_5g  time_period\n",
       "0  01-Jan-22        Jan       Before 5G            1\n",
       "1  01-Feb-22        Feb       Before 5G            2\n",
       "2  01-Mar-22        Mar       Before 5G            3\n",
       "3  01-Apr-22        Apr       Before 5G            4\n",
       "4  01-Jun-22        Jun        After 5G            1"
      ]
     },
     "execution_count": 5,
     "metadata": {},
     "output_type": "execute_result"
    }
   ],
   "source": [
    "dates.head()"
   ]
  },
  {
   "cell_type": "code",
   "execution_count": 58,
   "id": "7b631e4c",
   "metadata": {},
   "outputs": [
    {
     "data": {
      "text/plain": [
       "(8, 4)"
      ]
     },
     "execution_count": 58,
     "metadata": {},
     "output_type": "execute_result"
    }
   ],
   "source": [
    "dates.shape"
   ]
  },
  {
   "cell_type": "code",
   "execution_count": 6,
   "id": "0fcc73cb",
   "metadata": {},
   "outputs": [
    {
     "data": {
      "text/html": [
       "<div>\n",
       "<style scoped>\n",
       "    .dataframe tbody tr th:only-of-type {\n",
       "        vertical-align: middle;\n",
       "    }\n",
       "\n",
       "    .dataframe tbody tr th {\n",
       "        vertical-align: top;\n",
       "    }\n",
       "\n",
       "    .dataframe thead th {\n",
       "        text-align: right;\n",
       "    }\n",
       "</style>\n",
       "<table border=\"1\" class=\"dataframe\">\n",
       "  <thead>\n",
       "    <tr style=\"text-align: right;\">\n",
       "      <th></th>\n",
       "      <th>plan</th>\n",
       "      <th>plan_description</th>\n",
       "    </tr>\n",
       "  </thead>\n",
       "  <tbody>\n",
       "    <tr>\n",
       "      <th>0</th>\n",
       "      <td>p1</td>\n",
       "      <td>Smart Recharge Pack (2 GB / Day Combo For 3 mo...</td>\n",
       "    </tr>\n",
       "    <tr>\n",
       "      <th>1</th>\n",
       "      <td>p2</td>\n",
       "      <td>Super Saviour Pack (1.5 GB / Day Combo For 56 ...</td>\n",
       "    </tr>\n",
       "    <tr>\n",
       "      <th>2</th>\n",
       "      <td>p3</td>\n",
       "      <td>Elite saver Pack (1 GB/ Day) Valid: 28 Days</td>\n",
       "    </tr>\n",
       "    <tr>\n",
       "      <th>3</th>\n",
       "      <td>p4</td>\n",
       "      <td>Mini Data Saver Pack (500 MB/ Day) Valid: 20 Days</td>\n",
       "    </tr>\n",
       "    <tr>\n",
       "      <th>4</th>\n",
       "      <td>p5</td>\n",
       "      <td>Rs. 99 Full Talktime Combo Pack</td>\n",
       "    </tr>\n",
       "  </tbody>\n",
       "</table>\n",
       "</div>"
      ],
      "text/plain": [
       "  plan                                   plan_description\n",
       "0   p1  Smart Recharge Pack (2 GB / Day Combo For 3 mo...\n",
       "1   p2  Super Saviour Pack (1.5 GB / Day Combo For 56 ...\n",
       "2   p3        Elite saver Pack (1 GB/ Day) Valid: 28 Days\n",
       "3   p4  Mini Data Saver Pack (500 MB/ Day) Valid: 20 Days\n",
       "4   p5                    Rs. 99 Full Talktime Combo Pack"
      ]
     },
     "execution_count": 6,
     "metadata": {},
     "output_type": "execute_result"
    }
   ],
   "source": [
    "plans.head()"
   ]
  },
  {
   "cell_type": "code",
   "execution_count": 59,
   "id": "12c3fd7c",
   "metadata": {},
   "outputs": [
    {
     "data": {
      "text/plain": [
       "(13, 2)"
      ]
     },
     "execution_count": 59,
     "metadata": {},
     "output_type": "execute_result"
    }
   ],
   "source": [
    "plans.shape"
   ]
  },
  {
   "cell_type": "code",
   "execution_count": 7,
   "id": "2d4b6a1c",
   "metadata": {},
   "outputs": [
    {
     "data": {
      "text/html": [
       "<div>\n",
       "<style scoped>\n",
       "    .dataframe tbody tr th:only-of-type {\n",
       "        vertical-align: middle;\n",
       "    }\n",
       "\n",
       "    .dataframe tbody tr th {\n",
       "        vertical-align: top;\n",
       "    }\n",
       "\n",
       "    .dataframe thead th {\n",
       "        text-align: right;\n",
       "    }\n",
       "</style>\n",
       "<table border=\"1\" class=\"dataframe\">\n",
       "  <thead>\n",
       "    <tr style=\"text-align: right;\">\n",
       "      <th></th>\n",
       "      <th>date</th>\n",
       "      <th>city_code</th>\n",
       "      <th>company</th>\n",
       "      <th>atliqo_revenue_crores</th>\n",
       "      <th>arpu</th>\n",
       "      <th>active_users_lakhs</th>\n",
       "      <th>unsubscribed_users_lakhs</th>\n",
       "    </tr>\n",
       "  </thead>\n",
       "  <tbody>\n",
       "    <tr>\n",
       "      <th>0</th>\n",
       "      <td>01-Jan-22</td>\n",
       "      <td>400001</td>\n",
       "      <td>Atliqo</td>\n",
       "      <td>60.69</td>\n",
       "      <td>192</td>\n",
       "      <td>31.61</td>\n",
       "      <td>1.90</td>\n",
       "    </tr>\n",
       "    <tr>\n",
       "      <th>1</th>\n",
       "      <td>01-Jan-22</td>\n",
       "      <td>110001</td>\n",
       "      <td>Atliqo</td>\n",
       "      <td>42.71</td>\n",
       "      <td>175</td>\n",
       "      <td>24.41</td>\n",
       "      <td>1.31</td>\n",
       "    </tr>\n",
       "    <tr>\n",
       "      <th>2</th>\n",
       "      <td>01-Jan-22</td>\n",
       "      <td>700001</td>\n",
       "      <td>Atliqo</td>\n",
       "      <td>36.91</td>\n",
       "      <td>175</td>\n",
       "      <td>21.09</td>\n",
       "      <td>1.25</td>\n",
       "    </tr>\n",
       "    <tr>\n",
       "      <th>3</th>\n",
       "      <td>01-Jan-22</td>\n",
       "      <td>560001</td>\n",
       "      <td>Atliqo</td>\n",
       "      <td>37.40</td>\n",
       "      <td>175</td>\n",
       "      <td>21.37</td>\n",
       "      <td>1.39</td>\n",
       "    </tr>\n",
       "    <tr>\n",
       "      <th>4</th>\n",
       "      <td>01-Jan-22</td>\n",
       "      <td>600001</td>\n",
       "      <td>Atliqo</td>\n",
       "      <td>30.80</td>\n",
       "      <td>203</td>\n",
       "      <td>15.17</td>\n",
       "      <td>1.12</td>\n",
       "    </tr>\n",
       "  </tbody>\n",
       "</table>\n",
       "</div>"
      ],
      "text/plain": [
       "        date  city_code company  atliqo_revenue_crores  arpu  \\\n",
       "0  01-Jan-22     400001  Atliqo                  60.69   192   \n",
       "1  01-Jan-22     110001  Atliqo                  42.71   175   \n",
       "2  01-Jan-22     700001  Atliqo                  36.91   175   \n",
       "3  01-Jan-22     560001  Atliqo                  37.40   175   \n",
       "4  01-Jan-22     600001  Atliqo                  30.80   203   \n",
       "\n",
       "   active_users_lakhs  unsubscribed_users_lakhs  \n",
       "0               31.61                      1.90  \n",
       "1               24.41                      1.31  \n",
       "2               21.09                      1.25  \n",
       "3               21.37                      1.39  \n",
       "4               15.17                      1.12  "
      ]
     },
     "execution_count": 7,
     "metadata": {},
     "output_type": "execute_result"
    }
   ],
   "source": [
    "metrics.head()"
   ]
  },
  {
   "cell_type": "code",
   "execution_count": 60,
   "id": "f27e7829",
   "metadata": {},
   "outputs": [
    {
     "data": {
      "text/plain": [
       "(120, 7)"
      ]
     },
     "execution_count": 60,
     "metadata": {},
     "output_type": "execute_result"
    }
   ],
   "source": [
    "metrics.shape"
   ]
  },
  {
   "cell_type": "code",
   "execution_count": 8,
   "id": "6ec537dd",
   "metadata": {},
   "outputs": [
    {
     "data": {
      "text/html": [
       "<div>\n",
       "<style scoped>\n",
       "    .dataframe tbody tr th:only-of-type {\n",
       "        vertical-align: middle;\n",
       "    }\n",
       "\n",
       "    .dataframe tbody tr th {\n",
       "        vertical-align: top;\n",
       "    }\n",
       "\n",
       "    .dataframe thead th {\n",
       "        text-align: right;\n",
       "    }\n",
       "</style>\n",
       "<table border=\"1\" class=\"dataframe\">\n",
       "  <thead>\n",
       "    <tr style=\"text-align: right;\">\n",
       "      <th></th>\n",
       "      <th>date</th>\n",
       "      <th>city_code</th>\n",
       "      <th>tmv_city_crores</th>\n",
       "      <th>company</th>\n",
       "      <th>ms_pct</th>\n",
       "    </tr>\n",
       "  </thead>\n",
       "  <tbody>\n",
       "    <tr>\n",
       "      <th>0</th>\n",
       "      <td>01-Jan-22</td>\n",
       "      <td>400001</td>\n",
       "      <td>286.29</td>\n",
       "      <td>Atliqo</td>\n",
       "      <td>21.20</td>\n",
       "    </tr>\n",
       "    <tr>\n",
       "      <th>1</th>\n",
       "      <td>01-Jan-22</td>\n",
       "      <td>110001</td>\n",
       "      <td>241.59</td>\n",
       "      <td>Atliqo</td>\n",
       "      <td>17.68</td>\n",
       "    </tr>\n",
       "    <tr>\n",
       "      <th>2</th>\n",
       "      <td>01-Jan-22</td>\n",
       "      <td>700001</td>\n",
       "      <td>222.19</td>\n",
       "      <td>Atliqo</td>\n",
       "      <td>16.61</td>\n",
       "    </tr>\n",
       "    <tr>\n",
       "      <th>3</th>\n",
       "      <td>01-Jan-22</td>\n",
       "      <td>560001</td>\n",
       "      <td>195.41</td>\n",
       "      <td>Atliqo</td>\n",
       "      <td>19.14</td>\n",
       "    </tr>\n",
       "    <tr>\n",
       "      <th>4</th>\n",
       "      <td>01-Jan-22</td>\n",
       "      <td>600001</td>\n",
       "      <td>166.78</td>\n",
       "      <td>Atliqo</td>\n",
       "      <td>18.47</td>\n",
       "    </tr>\n",
       "  </tbody>\n",
       "</table>\n",
       "</div>"
      ],
      "text/plain": [
       "        date  city_code  tmv_city_crores company  ms_pct\n",
       "0  01-Jan-22     400001           286.29  Atliqo   21.20\n",
       "1  01-Jan-22     110001           241.59  Atliqo   17.68\n",
       "2  01-Jan-22     700001           222.19  Atliqo   16.61\n",
       "3  01-Jan-22     560001           195.41  Atliqo   19.14\n",
       "4  01-Jan-22     600001           166.78  Atliqo   18.47"
      ]
     },
     "execution_count": 8,
     "metadata": {},
     "output_type": "execute_result"
    }
   ],
   "source": [
    "market_share.head()"
   ]
  },
  {
   "cell_type": "code",
   "execution_count": 61,
   "id": "d2a60b8d",
   "metadata": {},
   "outputs": [
    {
     "data": {
      "text/plain": [
       "(600, 5)"
      ]
     },
     "execution_count": 61,
     "metadata": {},
     "output_type": "execute_result"
    }
   ],
   "source": [
    "market_share.shape"
   ]
  },
  {
   "cell_type": "code",
   "execution_count": 38,
   "id": "fc41fe6e",
   "metadata": {},
   "outputs": [
    {
     "data": {
      "text/html": [
       "<div>\n",
       "<style scoped>\n",
       "    .dataframe tbody tr th:only-of-type {\n",
       "        vertical-align: middle;\n",
       "    }\n",
       "\n",
       "    .dataframe tbody tr th {\n",
       "        vertical-align: top;\n",
       "    }\n",
       "\n",
       "    .dataframe thead th {\n",
       "        text-align: right;\n",
       "    }\n",
       "</style>\n",
       "<table border=\"1\" class=\"dataframe\">\n",
       "  <thead>\n",
       "    <tr style=\"text-align: right;\">\n",
       "      <th></th>\n",
       "      <th>date</th>\n",
       "      <th>city_code</th>\n",
       "      <th>plans</th>\n",
       "      <th>plan_revenue_crores</th>\n",
       "    </tr>\n",
       "  </thead>\n",
       "  <tbody>\n",
       "    <tr>\n",
       "      <th>0</th>\n",
       "      <td>01-Jan-22</td>\n",
       "      <td>400001</td>\n",
       "      <td>p1</td>\n",
       "      <td>6.26</td>\n",
       "    </tr>\n",
       "    <tr>\n",
       "      <th>1</th>\n",
       "      <td>01-Jan-22</td>\n",
       "      <td>110001</td>\n",
       "      <td>p1</td>\n",
       "      <td>4.58</td>\n",
       "    </tr>\n",
       "    <tr>\n",
       "      <th>2</th>\n",
       "      <td>01-Jan-22</td>\n",
       "      <td>700001</td>\n",
       "      <td>p1</td>\n",
       "      <td>4.29</td>\n",
       "    </tr>\n",
       "    <tr>\n",
       "      <th>3</th>\n",
       "      <td>01-Jan-22</td>\n",
       "      <td>560001</td>\n",
       "      <td>p1</td>\n",
       "      <td>4.26</td>\n",
       "    </tr>\n",
       "    <tr>\n",
       "      <th>4</th>\n",
       "      <td>01-Jan-22</td>\n",
       "      <td>600001</td>\n",
       "      <td>p1</td>\n",
       "      <td>3.60</td>\n",
       "    </tr>\n",
       "  </tbody>\n",
       "</table>\n",
       "</div>"
      ],
      "text/plain": [
       "        date  city_code plans  plan_revenue_crores\n",
       "0  01-Jan-22     400001    p1                 6.26\n",
       "1  01-Jan-22     110001    p1                 4.58\n",
       "2  01-Jan-22     700001    p1                 4.29\n",
       "3  01-Jan-22     560001    p1                 4.26\n",
       "4  01-Jan-22     600001    p1                 3.60"
      ]
     },
     "execution_count": 38,
     "metadata": {},
     "output_type": "execute_result"
    }
   ],
   "source": [
    "plan_revenue.head()"
   ]
  },
  {
   "cell_type": "code",
   "execution_count": 62,
   "id": "9722b470",
   "metadata": {},
   "outputs": [
    {
     "data": {
      "text/plain": [
       "(1200, 4)"
      ]
     },
     "execution_count": 62,
     "metadata": {},
     "output_type": "execute_result"
    }
   ],
   "source": [
    "plan_revenue.shape"
   ]
  },
  {
   "cell_type": "code",
   "execution_count": 12,
   "id": "6226b5bc",
   "metadata": {},
   "outputs": [],
   "source": [
    "city_metrics=metrics.merge(cities,on='city_code')"
   ]
  },
  {
   "cell_type": "code",
   "execution_count": 13,
   "id": "3c07a3e5",
   "metadata": {},
   "outputs": [
    {
     "data": {
      "text/html": [
       "<div>\n",
       "<style scoped>\n",
       "    .dataframe tbody tr th:only-of-type {\n",
       "        vertical-align: middle;\n",
       "    }\n",
       "\n",
       "    .dataframe tbody tr th {\n",
       "        vertical-align: top;\n",
       "    }\n",
       "\n",
       "    .dataframe thead th {\n",
       "        text-align: right;\n",
       "    }\n",
       "</style>\n",
       "<table border=\"1\" class=\"dataframe\">\n",
       "  <thead>\n",
       "    <tr style=\"text-align: right;\">\n",
       "      <th></th>\n",
       "      <th>date</th>\n",
       "      <th>city_code</th>\n",
       "      <th>company</th>\n",
       "      <th>atliqo_revenue_crores</th>\n",
       "      <th>arpu</th>\n",
       "      <th>active_users_lakhs</th>\n",
       "      <th>unsubscribed_users_lakhs</th>\n",
       "      <th>city_name</th>\n",
       "    </tr>\n",
       "  </thead>\n",
       "  <tbody>\n",
       "    <tr>\n",
       "      <th>0</th>\n",
       "      <td>01-Jan-22</td>\n",
       "      <td>400001</td>\n",
       "      <td>Atliqo</td>\n",
       "      <td>60.69</td>\n",
       "      <td>192</td>\n",
       "      <td>31.61</td>\n",
       "      <td>1.90</td>\n",
       "      <td>Mumbai</td>\n",
       "    </tr>\n",
       "    <tr>\n",
       "      <th>1</th>\n",
       "      <td>01-Feb-22</td>\n",
       "      <td>400001</td>\n",
       "      <td>Atliqo</td>\n",
       "      <td>61.19</td>\n",
       "      <td>169</td>\n",
       "      <td>36.21</td>\n",
       "      <td>2.71</td>\n",
       "      <td>Mumbai</td>\n",
       "    </tr>\n",
       "    <tr>\n",
       "      <th>2</th>\n",
       "      <td>01-Mar-22</td>\n",
       "      <td>400001</td>\n",
       "      <td>Atliqo</td>\n",
       "      <td>57.28</td>\n",
       "      <td>213</td>\n",
       "      <td>26.89</td>\n",
       "      <td>2.33</td>\n",
       "      <td>Mumbai</td>\n",
       "    </tr>\n",
       "    <tr>\n",
       "      <th>3</th>\n",
       "      <td>01-Apr-22</td>\n",
       "      <td>400001</td>\n",
       "      <td>Atliqo</td>\n",
       "      <td>65.24</td>\n",
       "      <td>213</td>\n",
       "      <td>30.63</td>\n",
       "      <td>2.64</td>\n",
       "      <td>Mumbai</td>\n",
       "    </tr>\n",
       "    <tr>\n",
       "      <th>4</th>\n",
       "      <td>01-Jun-22</td>\n",
       "      <td>400001</td>\n",
       "      <td>Atliqo</td>\n",
       "      <td>62.09</td>\n",
       "      <td>193</td>\n",
       "      <td>32.17</td>\n",
       "      <td>2.41</td>\n",
       "      <td>Mumbai</td>\n",
       "    </tr>\n",
       "  </tbody>\n",
       "</table>\n",
       "</div>"
      ],
      "text/plain": [
       "        date  city_code company  atliqo_revenue_crores  arpu  \\\n",
       "0  01-Jan-22     400001  Atliqo                  60.69   192   \n",
       "1  01-Feb-22     400001  Atliqo                  61.19   169   \n",
       "2  01-Mar-22     400001  Atliqo                  57.28   213   \n",
       "3  01-Apr-22     400001  Atliqo                  65.24   213   \n",
       "4  01-Jun-22     400001  Atliqo                  62.09   193   \n",
       "\n",
       "   active_users_lakhs  unsubscribed_users_lakhs city_name  \n",
       "0               31.61                      1.90    Mumbai  \n",
       "1               36.21                      2.71    Mumbai  \n",
       "2               26.89                      2.33    Mumbai  \n",
       "3               30.63                      2.64    Mumbai  \n",
       "4               32.17                      2.41    Mumbai  "
      ]
     },
     "execution_count": 13,
     "metadata": {},
     "output_type": "execute_result"
    }
   ],
   "source": [
    "city_metrics.head()"
   ]
  },
  {
   "cell_type": "code",
   "execution_count": 15,
   "id": "52e75566",
   "metadata": {},
   "outputs": [
    {
     "data": {
      "text/plain": [
       "400001    8\n",
       "110001    8\n",
       "700001    8\n",
       "560001    8\n",
       "600001    8\n",
       "500001    8\n",
       "411001    8\n",
       "380001    8\n",
       "302001    8\n",
       "226001    8\n",
       "800008    8\n",
       "641001    8\n",
       "160017    8\n",
       "122001    8\n",
       "492001    8\n",
       "Name: city_code, dtype: int64"
      ]
     },
     "execution_count": 15,
     "metadata": {},
     "output_type": "execute_result"
    }
   ],
   "source": [
    "city_metrics['city_code'].value_counts()"
   ]
  },
  {
   "cell_type": "code",
   "execution_count": 16,
   "id": "8e2aa5fc",
   "metadata": {},
   "outputs": [
    {
     "data": {
      "text/plain": [
       "Mumbai        8\n",
       "Delhi         8\n",
       "Kolkata       8\n",
       "Bangalore     8\n",
       "Chennai       8\n",
       "Hyderabad     8\n",
       "Pune          8\n",
       "Ahmedabad     8\n",
       "Jaipur        8\n",
       "Lucknow       8\n",
       "Patna         8\n",
       "Coimbatore    8\n",
       "Chandigarh    8\n",
       "Gurgaon       8\n",
       "Raipur        8\n",
       "Name: city_name, dtype: int64"
      ]
     },
     "execution_count": 16,
     "metadata": {},
     "output_type": "execute_result"
    }
   ],
   "source": [
    "city_metrics['city_name'].value_counts()"
   ]
  },
  {
   "cell_type": "code",
   "execution_count": 30,
   "id": "479e2f95",
   "metadata": {},
   "outputs": [
    {
     "data": {
      "text/plain": [
       "<AxesSubplot:xlabel='city_name'>"
      ]
     },
     "execution_count": 30,
     "metadata": {},
     "output_type": "execute_result"
    },
    {
     "data": {
      "image/png": "[encoded data removed]",
      "text/plain": [
       "<Figure size 864x576 with 1 Axes>"
      ]
     },
     "metadata": {
      "needs_background": "light"
     },
     "output_type": "display_data"
    }
   ],
   "source": [
    "plt.figure(figsize=(12,8))\n",
    "city_metrics.groupby(by='city_name')['atliqo_revenue_crores'].sum().sort_values(ascending=False).plot(kind='bar')"
   ]
  },
  {
   "cell_type": "code",
   "execution_count": 34,
   "id": "b492c52d",
   "metadata": {},
   "outputs": [
    {
     "data": {
      "text/plain": [
       "01-Jan-22    15\n",
       "01-Feb-22    15\n",
       "01-Mar-22    15\n",
       "01-Apr-22    15\n",
       "01-Jun-22    15\n",
       "01-Jul-22    15\n",
       "01-Aug-22    15\n",
       "01-Sep-22    15\n",
       "Name: date, dtype: int64"
      ]
     },
     "execution_count": 34,
     "metadata": {},
     "output_type": "execute_result"
    }
   ],
   "source": [
    "city_metrics['date'].value_counts()"
   ]
  },
  {
   "cell_type": "code",
   "execution_count": 36,
   "id": "3752b1e3",
   "metadata": {},
   "outputs": [],
   "source": [
    "dated_city_metrics=city_metrics.merge(dates,on='date')"
   ]
  },
  {
   "cell_type": "code",
   "execution_count": 37,
   "id": "101b95ad",
   "metadata": {},
   "outputs": [
    {
     "data": {
      "text/html": [
       "<div>\n",
       "<style scoped>\n",
       "    .dataframe tbody tr th:only-of-type {\n",
       "        vertical-align: middle;\n",
       "    }\n",
       "\n",
       "    .dataframe tbody tr th {\n",
       "        vertical-align: top;\n",
       "    }\n",
       "\n",
       "    .dataframe thead th {\n",
       "        text-align: right;\n",
       "    }\n",
       "</style>\n",
       "<table border=\"1\" class=\"dataframe\">\n",
       "  <thead>\n",
       "    <tr style=\"text-align: right;\">\n",
       "      <th></th>\n",
       "      <th>date</th>\n",
       "      <th>city_code</th>\n",
       "      <th>company</th>\n",
       "      <th>atliqo_revenue_crores</th>\n",
       "      <th>arpu</th>\n",
       "      <th>active_users_lakhs</th>\n",
       "      <th>unsubscribed_users_lakhs</th>\n",
       "      <th>city_name</th>\n",
       "      <th>month_name</th>\n",
       "      <th>before/after_5g</th>\n",
       "      <th>time_period</th>\n",
       "    </tr>\n",
       "  </thead>\n",
       "  <tbody>\n",
       "    <tr>\n",
       "      <th>0</th>\n",
       "      <td>01-Jan-22</td>\n",
       "      <td>400001</td>\n",
       "      <td>Atliqo</td>\n",
       "      <td>60.69</td>\n",
       "      <td>192</td>\n",
       "      <td>31.61</td>\n",
       "      <td>1.90</td>\n",
       "      <td>Mumbai</td>\n",
       "      <td>Jan</td>\n",
       "      <td>Before 5G</td>\n",
       "      <td>1</td>\n",
       "    </tr>\n",
       "    <tr>\n",
       "      <th>1</th>\n",
       "      <td>01-Jan-22</td>\n",
       "      <td>110001</td>\n",
       "      <td>Atliqo</td>\n",
       "      <td>42.71</td>\n",
       "      <td>175</td>\n",
       "      <td>24.41</td>\n",
       "      <td>1.31</td>\n",
       "      <td>Delhi</td>\n",
       "      <td>Jan</td>\n",
       "      <td>Before 5G</td>\n",
       "      <td>1</td>\n",
       "    </tr>\n",
       "    <tr>\n",
       "      <th>2</th>\n",
       "      <td>01-Jan-22</td>\n",
       "      <td>700001</td>\n",
       "      <td>Atliqo</td>\n",
       "      <td>36.91</td>\n",
       "      <td>175</td>\n",
       "      <td>21.09</td>\n",
       "      <td>1.25</td>\n",
       "      <td>Kolkata</td>\n",
       "      <td>Jan</td>\n",
       "      <td>Before 5G</td>\n",
       "      <td>1</td>\n",
       "    </tr>\n",
       "    <tr>\n",
       "      <th>3</th>\n",
       "      <td>01-Jan-22</td>\n",
       "      <td>560001</td>\n",
       "      <td>Atliqo</td>\n",
       "      <td>37.40</td>\n",
       "      <td>175</td>\n",
       "      <td>21.37</td>\n",
       "      <td>1.39</td>\n",
       "      <td>Bangalore</td>\n",
       "      <td>Jan</td>\n",
       "      <td>Before 5G</td>\n",
       "      <td>1</td>\n",
       "    </tr>\n",
       "    <tr>\n",
       "      <th>4</th>\n",
       "      <td>01-Jan-22</td>\n",
       "      <td>600001</td>\n",
       "      <td>Atliqo</td>\n",
       "      <td>30.80</td>\n",
       "      <td>203</td>\n",
       "      <td>15.17</td>\n",
       "      <td>1.12</td>\n",
       "      <td>Chennai</td>\n",
       "      <td>Jan</td>\n",
       "      <td>Before 5G</td>\n",
       "      <td>1</td>\n",
       "    </tr>\n",
       "  </tbody>\n",
       "</table>\n",
       "</div>"
      ],
      "text/plain": [
       "        date  city_code company  atliqo_revenue_crores  arpu  \\\n",
       "0  01-Jan-22     400001  Atliqo                  60.69   192   \n",
       "1  01-Jan-22     110001  Atliqo                  42.71   175   \n",
       "2  01-Jan-22     700001  Atliqo                  36.91   175   \n",
       "3  01-Jan-22     560001  Atliqo                  37.40   175   \n",
       "4  01-Jan-22     600001  Atliqo                  30.80   203   \n",
       "\n",
       "   active_users_lakhs  unsubscribed_users_lakhs  city_name month_name  \\\n",
       "0               31.61                      1.90     Mumbai        Jan   \n",
       "1               24.41                      1.31      Delhi        Jan   \n",
       "2               21.09                      1.25    Kolkata        Jan   \n",
       "3               21.37                      1.39  Bangalore        Jan   \n",
       "4               15.17                      1.12    Chennai        Jan   \n",
       "\n",
       "  before/after_5g  time_period  \n",
       "0       Before 5G            1  \n",
       "1       Before 5G            1  \n",
       "2       Before 5G            1  \n",
       "3       Before 5G            1  \n",
       "4       Before 5G            1  "
      ]
     },
     "execution_count": 37,
     "metadata": {},
     "output_type": "execute_result"
    }
   ],
   "source": [
    "dated_city_metrics.head()"
   ]
  },
  {
   "cell_type": "code",
   "execution_count": 47,
   "id": "8138dab0",
   "metadata": {},
   "outputs": [],
   "source": [
    "plan_revenue.rename(columns={'plans':'plan'},inplace=True)"
   ]
  },
  {
   "cell_type": "code",
   "execution_count": 48,
   "id": "97e4b0b8",
   "metadata": {},
   "outputs": [
    {
     "data": {
      "text/html": [
       "<div>\n",
       "<style scoped>\n",
       "    .dataframe tbody tr th:only-of-type {\n",
       "        vertical-align: middle;\n",
       "    }\n",
       "\n",
       "    .dataframe tbody tr th {\n",
       "        vertical-align: top;\n",
       "    }\n",
       "\n",
       "    .dataframe thead th {\n",
       "        text-align: right;\n",
       "    }\n",
       "</style>\n",
       "<table border=\"1\" class=\"dataframe\">\n",
       "  <thead>\n",
       "    <tr style=\"text-align: right;\">\n",
       "      <th></th>\n",
       "      <th>date</th>\n",
       "      <th>city_code</th>\n",
       "      <th>plan</th>\n",
       "      <th>plan_revenue_crores</th>\n",
       "    </tr>\n",
       "  </thead>\n",
       "  <tbody>\n",
       "    <tr>\n",
       "      <th>0</th>\n",
       "      <td>01-Jan-22</td>\n",
       "      <td>400001</td>\n",
       "      <td>p1</td>\n",
       "      <td>6.26</td>\n",
       "    </tr>\n",
       "    <tr>\n",
       "      <th>1</th>\n",
       "      <td>01-Jan-22</td>\n",
       "      <td>110001</td>\n",
       "      <td>p1</td>\n",
       "      <td>4.58</td>\n",
       "    </tr>\n",
       "    <tr>\n",
       "      <th>2</th>\n",
       "      <td>01-Jan-22</td>\n",
       "      <td>700001</td>\n",
       "      <td>p1</td>\n",
       "      <td>4.29</td>\n",
       "    </tr>\n",
       "    <tr>\n",
       "      <th>3</th>\n",
       "      <td>01-Jan-22</td>\n",
       "      <td>560001</td>\n",
       "      <td>p1</td>\n",
       "      <td>4.26</td>\n",
       "    </tr>\n",
       "    <tr>\n",
       "      <th>4</th>\n",
       "      <td>01-Jan-22</td>\n",
       "      <td>600001</td>\n",
       "      <td>p1</td>\n",
       "      <td>3.60</td>\n",
       "    </tr>\n",
       "  </tbody>\n",
       "</table>\n",
       "</div>"
      ],
      "text/plain": [
       "        date  city_code plan  plan_revenue_crores\n",
       "0  01-Jan-22     400001   p1                 6.26\n",
       "1  01-Jan-22     110001   p1                 4.58\n",
       "2  01-Jan-22     700001   p1                 4.29\n",
       "3  01-Jan-22     560001   p1                 4.26\n",
       "4  01-Jan-22     600001   p1                 3.60"
      ]
     },
     "execution_count": 48,
     "metadata": {},
     "output_type": "execute_result"
    }
   ],
   "source": [
    "plan_revenue.head()"
   ]
  },
  {
   "cell_type": "code",
   "execution_count": 50,
   "id": "86617eca",
   "metadata": {},
   "outputs": [],
   "source": [
    "new_plan=plan_revenue.merge(plans,on='plan')"
   ]
  },
  {
   "cell_type": "code",
   "execution_count": 51,
   "id": "259bff5e",
   "metadata": {},
   "outputs": [
    {
     "data": {
      "text/html": [
       "<div>\n",
       "<style scoped>\n",
       "    .dataframe tbody tr th:only-of-type {\n",
       "        vertical-align: middle;\n",
       "    }\n",
       "\n",
       "    .dataframe tbody tr th {\n",
       "        vertical-align: top;\n",
       "    }\n",
       "\n",
       "    .dataframe thead th {\n",
       "        text-align: right;\n",
       "    }\n",
       "</style>\n",
       "<table border=\"1\" class=\"dataframe\">\n",
       "  <thead>\n",
       "    <tr style=\"text-align: right;\">\n",
       "      <th></th>\n",
       "      <th>date</th>\n",
       "      <th>city_code</th>\n",
       "      <th>plan</th>\n",
       "      <th>plan_revenue_crores</th>\n",
       "      <th>plan_description</th>\n",
       "    </tr>\n",
       "  </thead>\n",
       "  <tbody>\n",
       "    <tr>\n",
       "      <th>0</th>\n",
       "      <td>01-Jan-22</td>\n",
       "      <td>400001</td>\n",
       "      <td>p1</td>\n",
       "      <td>6.26</td>\n",
       "      <td>Smart Recharge Pack (2 GB / Day Combo For 3 mo...</td>\n",
       "    </tr>\n",
       "    <tr>\n",
       "      <th>1</th>\n",
       "      <td>01-Jan-22</td>\n",
       "      <td>110001</td>\n",
       "      <td>p1</td>\n",
       "      <td>4.58</td>\n",
       "      <td>Smart Recharge Pack (2 GB / Day Combo For 3 mo...</td>\n",
       "    </tr>\n",
       "    <tr>\n",
       "      <th>2</th>\n",
       "      <td>01-Jan-22</td>\n",
       "      <td>700001</td>\n",
       "      <td>p1</td>\n",
       "      <td>4.29</td>\n",
       "      <td>Smart Recharge Pack (2 GB / Day Combo For 3 mo...</td>\n",
       "    </tr>\n",
       "    <tr>\n",
       "      <th>3</th>\n",
       "      <td>01-Jan-22</td>\n",
       "      <td>560001</td>\n",
       "      <td>p1</td>\n",
       "      <td>4.26</td>\n",
       "      <td>Smart Recharge Pack (2 GB / Day Combo For 3 mo...</td>\n",
       "    </tr>\n",
       "    <tr>\n",
       "      <th>4</th>\n",
       "      <td>01-Jan-22</td>\n",
       "      <td>600001</td>\n",
       "      <td>p1</td>\n",
       "      <td>3.60</td>\n",
       "      <td>Smart Recharge Pack (2 GB / Day Combo For 3 mo...</td>\n",
       "    </tr>\n",
       "  </tbody>\n",
       "</table>\n",
       "</div>"
      ],
      "text/plain": [
       "        date  city_code plan  plan_revenue_crores  \\\n",
       "0  01-Jan-22     400001   p1                 6.26   \n",
       "1  01-Jan-22     110001   p1                 4.58   \n",
       "2  01-Jan-22     700001   p1                 4.29   \n",
       "3  01-Jan-22     560001   p1                 4.26   \n",
       "4  01-Jan-22     600001   p1                 3.60   \n",
       "\n",
       "                                    plan_description  \n",
       "0  Smart Recharge Pack (2 GB / Day Combo For 3 mo...  \n",
       "1  Smart Recharge Pack (2 GB / Day Combo For 3 mo...  \n",
       "2  Smart Recharge Pack (2 GB / Day Combo For 3 mo...  \n",
       "3  Smart Recharge Pack (2 GB / Day Combo For 3 mo...  \n",
       "4  Smart Recharge Pack (2 GB / Day Combo For 3 mo...  "
      ]
     },
     "execution_count": 51,
     "metadata": {},
     "output_type": "execute_result"
    }
   ],
   "source": [
    "new_plan.head()"
   ]
  },
  {
   "cell_type": "code",
   "execution_count": 53,
   "id": "882428a8",
   "metadata": {},
   "outputs": [
    {
     "data": {
      "text/html": [
       "<div>\n",
       "<style scoped>\n",
       "    .dataframe tbody tr th:only-of-type {\n",
       "        vertical-align: middle;\n",
       "    }\n",
       "\n",
       "    .dataframe tbody tr th {\n",
       "        vertical-align: top;\n",
       "    }\n",
       "\n",
       "    .dataframe thead th {\n",
       "        text-align: right;\n",
       "    }\n",
       "</style>\n",
       "<table border=\"1\" class=\"dataframe\">\n",
       "  <thead>\n",
       "    <tr style=\"text-align: right;\">\n",
       "      <th></th>\n",
       "      <th>date</th>\n",
       "      <th>city_code</th>\n",
       "      <th>company</th>\n",
       "      <th>atliqo_revenue_crores</th>\n",
       "      <th>arpu</th>\n",
       "      <th>active_users_lakhs</th>\n",
       "      <th>unsubscribed_users_lakhs</th>\n",
       "      <th>city_name</th>\n",
       "      <th>month_name</th>\n",
       "      <th>before/after_5g</th>\n",
       "      <th>time_period</th>\n",
       "    </tr>\n",
       "  </thead>\n",
       "  <tbody>\n",
       "    <tr>\n",
       "      <th>0</th>\n",
       "      <td>01-Jan-22</td>\n",
       "      <td>400001</td>\n",
       "      <td>Atliqo</td>\n",
       "      <td>60.69</td>\n",
       "      <td>192</td>\n",
       "      <td>31.61</td>\n",
       "      <td>1.90</td>\n",
       "      <td>Mumbai</td>\n",
       "      <td>Jan</td>\n",
       "      <td>Before 5G</td>\n",
       "      <td>1</td>\n",
       "    </tr>\n",
       "    <tr>\n",
       "      <th>1</th>\n",
       "      <td>01-Jan-22</td>\n",
       "      <td>110001</td>\n",
       "      <td>Atliqo</td>\n",
       "      <td>42.71</td>\n",
       "      <td>175</td>\n",
       "      <td>24.41</td>\n",
       "      <td>1.31</td>\n",
       "      <td>Delhi</td>\n",
       "      <td>Jan</td>\n",
       "      <td>Before 5G</td>\n",
       "      <td>1</td>\n",
       "    </tr>\n",
       "    <tr>\n",
       "      <th>2</th>\n",
       "      <td>01-Jan-22</td>\n",
       "      <td>700001</td>\n",
       "      <td>Atliqo</td>\n",
       "      <td>36.91</td>\n",
       "      <td>175</td>\n",
       "      <td>21.09</td>\n",
       "      <td>1.25</td>\n",
       "      <td>Kolkata</td>\n",
       "      <td>Jan</td>\n",
       "      <td>Before 5G</td>\n",
       "      <td>1</td>\n",
       "    </tr>\n",
       "    <tr>\n",
       "      <th>3</th>\n",
       "      <td>01-Jan-22</td>\n",
       "      <td>560001</td>\n",
       "      <td>Atliqo</td>\n",
       "      <td>37.40</td>\n",
       "      <td>175</td>\n",
       "      <td>21.37</td>\n",
       "      <td>1.39</td>\n",
       "      <td>Bangalore</td>\n",
       "      <td>Jan</td>\n",
       "      <td>Before 5G</td>\n",
       "      <td>1</td>\n",
       "    </tr>\n",
       "    <tr>\n",
       "      <th>4</th>\n",
       "      <td>01-Jan-22</td>\n",
       "      <td>600001</td>\n",
       "      <td>Atliqo</td>\n",
       "      <td>30.80</td>\n",
       "      <td>203</td>\n",
       "      <td>15.17</td>\n",
       "      <td>1.12</td>\n",
       "      <td>Chennai</td>\n",
       "      <td>Jan</td>\n",
       "      <td>Before 5G</td>\n",
       "      <td>1</td>\n",
       "    </tr>\n",
       "  </tbody>\n",
       "</table>\n",
       "</div>"
      ],
      "text/plain": [
       "        date  city_code company  atliqo_revenue_crores  arpu  \\\n",
       "0  01-Jan-22     400001  Atliqo                  60.69   192   \n",
       "1  01-Jan-22     110001  Atliqo                  42.71   175   \n",
       "2  01-Jan-22     700001  Atliqo                  36.91   175   \n",
       "3  01-Jan-22     560001  Atliqo                  37.40   175   \n",
       "4  01-Jan-22     600001  Atliqo                  30.80   203   \n",
       "\n",
       "   active_users_lakhs  unsubscribed_users_lakhs  city_name month_name  \\\n",
       "0               31.61                      1.90     Mumbai        Jan   \n",
       "1               24.41                      1.31      Delhi        Jan   \n",
       "2               21.09                      1.25    Kolkata        Jan   \n",
       "3               21.37                      1.39  Bangalore        Jan   \n",
       "4               15.17                      1.12    Chennai        Jan   \n",
       "\n",
       "  before/after_5g  time_period  \n",
       "0       Before 5G            1  \n",
       "1       Before 5G            1  \n",
       "2       Before 5G            1  \n",
       "3       Before 5G            1  \n",
       "4       Before 5G            1  "
      ]
     },
     "execution_count": 53,
     "metadata": {},
     "output_type": "execute_result"
    }
   ],
   "source": [
    "dated_city_metrics.head()"
   ]
  },
  {
   "cell_type": "code",
   "execution_count": 55,
   "id": "f22a7863",
   "metadata": {},
   "outputs": [
    {
     "data": {
      "text/plain": [
       "(120, 11)"
      ]
     },
     "execution_count": 55,
     "metadata": {},
     "output_type": "execute_result"
    }
   ],
   "source": [
    "dated_city_metrics.shape"
   ]
  },
  {
   "cell_type": "code",
   "execution_count": 56,
   "id": "b0939c8c",
   "metadata": {},
   "outputs": [
    {
     "data": {
      "text/plain": [
       "(1200, 5)"
      ]
     },
     "execution_count": 56,
     "metadata": {},
     "output_type": "execute_result"
    }
   ],
   "source": [
    "new_plan.shape"
   ]
  },
  {
   "cell_type": "markdown",
   "id": "0d473e0c",
   "metadata": {},
   "source": [
    "### Let's try to pull insight from the available data and analyze the market.."
   ]
  },
  {
   "cell_type": "code",
   "execution_count": 63,
   "id": "37998617",
   "metadata": {},
   "outputs": [],
   "source": [
    "import copy\n",
    "df=copy.deepcopy(dated_city_metrics)"
   ]
  },
  {
   "cell_type": "code",
   "execution_count": 64,
   "id": "1113d42c",
   "metadata": {},
   "outputs": [
    {
     "data": {
      "text/html": [
       "<div>\n",
       "<style scoped>\n",
       "    .dataframe tbody tr th:only-of-type {\n",
       "        vertical-align: middle;\n",
       "    }\n",
       "\n",
       "    .dataframe tbody tr th {\n",
       "        vertical-align: top;\n",
       "    }\n",
       "\n",
       "    .dataframe thead th {\n",
       "        text-align: right;\n",
       "    }\n",
       "</style>\n",
       "<table border=\"1\" class=\"dataframe\">\n",
       "  <thead>\n",
       "    <tr style=\"text-align: right;\">\n",
       "      <th></th>\n",
       "      <th>date</th>\n",
       "      <th>city_code</th>\n",
       "      <th>company</th>\n",
       "      <th>atliqo_revenue_crores</th>\n",
       "      <th>arpu</th>\n",
       "      <th>active_users_lakhs</th>\n",
       "      <th>unsubscribed_users_lakhs</th>\n",
       "      <th>city_name</th>\n",
       "      <th>month_name</th>\n",
       "      <th>before/after_5g</th>\n",
       "      <th>time_period</th>\n",
       "    </tr>\n",
       "  </thead>\n",
       "  <tbody>\n",
       "    <tr>\n",
       "      <th>0</th>\n",
       "      <td>01-Jan-22</td>\n",
       "      <td>400001</td>\n",
       "      <td>Atliqo</td>\n",
       "      <td>60.69</td>\n",
       "      <td>192</td>\n",
       "      <td>31.61</td>\n",
       "      <td>1.90</td>\n",
       "      <td>Mumbai</td>\n",
       "      <td>Jan</td>\n",
       "      <td>Before 5G</td>\n",
       "      <td>1</td>\n",
       "    </tr>\n",
       "    <tr>\n",
       "      <th>1</th>\n",
       "      <td>01-Jan-22</td>\n",
       "      <td>110001</td>\n",
       "      <td>Atliqo</td>\n",
       "      <td>42.71</td>\n",
       "      <td>175</td>\n",
       "      <td>24.41</td>\n",
       "      <td>1.31</td>\n",
       "      <td>Delhi</td>\n",
       "      <td>Jan</td>\n",
       "      <td>Before 5G</td>\n",
       "      <td>1</td>\n",
       "    </tr>\n",
       "  </tbody>\n",
       "</table>\n",
       "</div>"
      ],
      "text/plain": [
       "        date  city_code company  atliqo_revenue_crores  arpu  \\\n",
       "0  01-Jan-22     400001  Atliqo                  60.69   192   \n",
       "1  01-Jan-22     110001  Atliqo                  42.71   175   \n",
       "\n",
       "   active_users_lakhs  unsubscribed_users_lakhs city_name month_name  \\\n",
       "0               31.61                      1.90    Mumbai        Jan   \n",
       "1               24.41                      1.31     Delhi        Jan   \n",
       "\n",
       "  before/after_5g  time_period  \n",
       "0       Before 5G            1  \n",
       "1       Before 5G            1  "
      ]
     },
     "execution_count": 64,
     "metadata": {},
     "output_type": "execute_result"
    }
   ],
   "source": [
    "df.head(2)"
   ]
  },
  {
   "cell_type": "code",
   "execution_count": 69,
   "id": "e15b5325",
   "metadata": {},
   "outputs": [],
   "source": [
    "bdf=df[df['before/after_5g']=='Before 5G']\n",
    "adf=df[df['before/after_5g']=='After 5G']"
   ]
  },
  {
   "cell_type": "code",
   "execution_count": 75,
   "id": "c340d336",
   "metadata": {},
   "outputs": [
    {
     "data": {
      "text/plain": [
       "<AxesSubplot:xlabel='city_name'>"
      ]
     },
     "execution_count": 75,
     "metadata": {},
     "output_type": "execute_result"
    },
    {
     "data": {
      "image/png": "[encoded data removed]",
      "text/plain": [
       "<Figure size 432x288 with 1 Axes>"
      ]
     },
     "metadata": {
      "needs_background": "light"
     },
     "output_type": "display_data"
    }
   ],
   "source": [
    "bdf.groupby(by='city_name')['atliqo_revenue_crores'].sum().sort_values(ascending=True).plot(kind='bar')"
   ]
  },
  {
   "cell_type": "code",
   "execution_count": 76,
   "id": "1eb0df21",
   "metadata": {},
   "outputs": [
    {
     "data": {
      "text/plain": [
       "<AxesSubplot:xlabel='city_name'>"
      ]
     },
     "execution_count": 76,
     "metadata": {},
     "output_type": "execute_result"
    },
    {
     "data": {
      "image/png": "[encoded data removed]",
      "text/plain": [
       "<Figure size 432x288 with 1 Axes>"
      ]
     },
     "metadata": {
      "needs_background": "light"
     },
     "output_type": "display_data"
    }
   ],
   "source": [
    "adf.groupby(by='city_name')['atliqo_revenue_crores'].sum().sort_values(ascending=True).plot(kind='bar')"
   ]
  },
  {
   "cell_type": "code",
   "execution_count": 86,
   "id": "695be02e",
   "metadata": {},
   "outputs": [
    {
     "data": {
      "text/plain": [
       "city_name\n",
       "Ahmedabad      92.58\n",
       "Bangalore     169.94\n",
       "Chandigarh     30.51\n",
       "Chennai       146.24\n",
       "Coimbatore     45.72\n",
       "Delhi         190.82\n",
       "Gurgaon        27.53\n",
       "Hyderabad     117.10\n",
       "Jaipur         70.78\n",
       "Kolkata       191.84\n",
       "Lucknow        66.01\n",
       "Mumbai        245.15\n",
       "Patna          49.46\n",
       "Pune          130.12\n",
       "Raipur         15.86\n",
       "Name: atliqo_revenue_crores, dtype: float64"
      ]
     },
     "execution_count": 86,
     "metadata": {},
     "output_type": "execute_result"
    }
   ],
   "source": [
    "adf.groupby(by='city_name')['atliqo_revenue_crores'].sum().sort_index(ascending=True)"
   ]
  },
  {
   "cell_type": "code",
   "execution_count": 136,
   "id": "4cfec93c",
   "metadata": {},
   "outputs": [
    {
     "data": {
      "image/png": "[encoded data removed]",
      "text/plain": [
       "<Figure size 1440x576 with 1 Axes>"
      ]
     },
     "metadata": {},
     "output_type": "display_data"
    }
   ],
   "source": [
    "plt.figure(figsize=(20,8))\n",
    "sns.set_style('darkgrid')\n",
    "sns.barplot(x='city_name',y='atliqo_revenue_crores',data=df,hue='before/after_5g')\n",
    "plt.xticks(rotation=45)\n",
    "plt.show()"
   ]
  },
  {
   "cell_type": "code",
   "execution_count": 110,
   "id": "68bb59ff",
   "metadata": {},
   "outputs": [
    {
     "data": {
      "text/plain": [
       "Index(['Ahmedabad', 'Bangalore', 'Chandigarh', 'Chennai', 'Coimbatore',\n",
       "       'Delhi', 'Gurgaon', 'Hyderabad', 'Jaipur', 'Kolkata', 'Lucknow',\n",
       "       'Mumbai', 'Patna', 'Pune', 'Raipur'],\n",
       "      dtype='object', name='city_name')"
      ]
     },
     "execution_count": 110,
     "metadata": {},
     "output_type": "execute_result"
    }
   ],
   "source": [
    "adf.groupby(by='city_name')['atliqo_revenue_crores'].sum().sort_index(ascending=True).index"
   ]
  },
  {
   "cell_type": "code",
   "execution_count": 112,
   "id": "5e6ed693",
   "metadata": {},
   "outputs": [
    {
     "data": {
      "text/plain": [
       "array([ 92.58, 169.94,  30.51, 146.24,  45.72, 190.82,  27.53, 117.1 ,\n",
       "        70.78, 191.84,  66.01, 245.15,  49.46, 130.12,  15.86])"
      ]
     },
     "execution_count": 112,
     "metadata": {},
     "output_type": "execute_result"
    }
   ],
   "source": [
    "adf.groupby(by='city_name')['atliqo_revenue_crores'].sum().sort_index(ascending=True).values"
   ]
  },
  {
   "cell_type": "code",
   "execution_count": 113,
   "id": "562f95b8",
   "metadata": {},
   "outputs": [
    {
     "data": {
      "text/plain": [
       "array([ 94.49, 168.67,  30.68, 150.13,  45.67, 196.38,  27.12, 118.63,\n",
       "        70.09, 192.55,  64.83, 244.4 ,  48.74, 129.64,  15.68])"
      ]
     },
     "execution_count": 113,
     "metadata": {},
     "output_type": "execute_result"
    }
   ],
   "source": [
    "bdf.groupby(by='city_name')['atliqo_revenue_crores'].sum().sort_index(ascending=True).values"
   ]
  },
  {
   "cell_type": "code",
   "execution_count": 111,
   "id": "2bd4c20b",
   "metadata": {},
   "outputs": [],
   "source": [
    "city_list=['Ahmedabad', 'Bangalore', 'Chandigarh', 'Chennai', 'Coimbatore',\n",
    "       'Delhi', 'Gurgaon', 'Hyderabad', 'Jaipur', 'Kolkata', 'Lucknow',\n",
    "       'Mumbai', 'Patna', 'Pune', 'Raipur']"
   ]
  },
  {
   "cell_type": "code",
   "execution_count": 114,
   "id": "a3fef454",
   "metadata": {},
   "outputs": [],
   "source": [
    "after_5G_rev=[ 92.58, 169.94,  30.51, 146.24,  45.72, 190.82,  27.53, 117.1 ,\n",
    "        70.78, 191.84,  66.01, 245.15,  49.46, 130.12,  15.86]"
   ]
  },
  {
   "cell_type": "code",
   "execution_count": 115,
   "id": "036e7752",
   "metadata": {},
   "outputs": [],
   "source": [
    "before_5G_rev=[94.49, 168.67,  30.68, 150.13,  45.67, 196.38,  27.12, 118.63,\n",
    "        70.09, 192.55,  64.83, 244.4 ,  48.74, 129.64,  15.68]"
   ]
  },
  {
   "cell_type": "code",
   "execution_count": 116,
   "id": "755538fe",
   "metadata": {},
   "outputs": [],
   "source": [
    "X_axis_values=np.arange(len(city_list))"
   ]
  },
  {
   "cell_type": "code",
   "execution_count": 173,
   "id": "149564a9",
   "metadata": {},
   "outputs": [
    {
     "data": {
      "image/png": "[encoded data removed]",
      "text/plain": [
       "<Figure size 1440x576 with 1 Axes>"
      ]
     },
     "metadata": {},
     "output_type": "display_data"
    }
   ],
   "source": [
    "plt.figure(figsize=(20,8))\n",
    "plt.bar(X_axis_values-0.2,after_5G_rev,width=0.4,label='After_5G_Revenue')\n",
    "plt.bar(X_axis_values+0.2,before_5G_rev,width=0.4,label='Before_5G_Revenue')\n",
    "\n",
    "plt.xticks(ticks=X_axis_values,labels=city_list)\n",
    "plt.yticks(range(0,250,10))\n",
    "\n",
    "plt.xlabel('City_Name')\n",
    "plt.ylabel('Revenue_Collection')\n",
    "plt.title('Total Revenue(Crores) by Cities Before and After 5G')\n",
    "plt.legend()\n",
    "plt.show()"
   ]
  },
  {
   "cell_type": "code",
   "execution_count": 144,
   "id": "79a5b454",
   "metadata": {},
   "outputs": [
    {
     "data": {
      "text/plain": [
       "<AxesSubplot:xlabel='month_name'>"
      ]
     },
     "execution_count": 144,
     "metadata": {},
     "output_type": "execute_result"
    },
    {
     "data": {
      "image/png": "[encoded data removed]",
      "text/plain": [
       "<Figure size 1440x576 with 1 Axes>"
      ]
     },
     "metadata": {},
     "output_type": "display_data"
    }
   ],
   "source": [
    "plt.figure(figsize=(20,8))\n",
    "df.groupby(by='month_name')['atliqo_revenue_crores'].sum().sort_values(ascending=True).plot(kind='bar')"
   ]
  },
  {
   "cell_type": "code",
   "execution_count": 145,
   "id": "091aac99",
   "metadata": {},
   "outputs": [
    {
     "data": {
      "text/plain": [
       "<AxesSubplot:xlabel='month_name'>"
      ]
     },
     "execution_count": 145,
     "metadata": {},
     "output_type": "execute_result"
    },
    {
     "data": {
      "image/png": "[encoded data removed]",
      "text/plain": [
       "<Figure size 1440x576 with 1 Axes>"
      ]
     },
     "metadata": {},
     "output_type": "display_data"
    }
   ],
   "source": [
    "plt.figure(figsize=(20,8))\n",
    "adf.groupby(by='month_name')['atliqo_revenue_crores'].sum().sort_values(ascending=True).plot(kind='bar')"
   ]
  },
  {
   "cell_type": "code",
   "execution_count": 146,
   "id": "53b5d57d",
   "metadata": {},
   "outputs": [
    {
     "data": {
      "text/plain": [
       "<AxesSubplot:xlabel='month_name'>"
      ]
     },
     "execution_count": 146,
     "metadata": {},
     "output_type": "execute_result"
    },
    {
     "data": {
      "image/png": "[encoded data removed]",
      "text/plain": [
       "<Figure size 1440x576 with 1 Axes>"
      ]
     },
     "metadata": {},
     "output_type": "display_data"
    }
   ],
   "source": [
    "plt.figure(figsize=(20,8))\n",
    "bdf.groupby(by='month_name')['atliqo_revenue_crores'].sum().sort_values(ascending=True).plot(kind='bar')"
   ]
  },
  {
   "cell_type": "code",
   "execution_count": 148,
   "id": "5d92e940",
   "metadata": {},
   "outputs": [
    {
     "data": {
      "text/html": [
       "<div>\n",
       "<style scoped>\n",
       "    .dataframe tbody tr th:only-of-type {\n",
       "        vertical-align: middle;\n",
       "    }\n",
       "\n",
       "    .dataframe tbody tr th {\n",
       "        vertical-align: top;\n",
       "    }\n",
       "\n",
       "    .dataframe thead th {\n",
       "        text-align: right;\n",
       "    }\n",
       "</style>\n",
       "<table border=\"1\" class=\"dataframe\">\n",
       "  <thead>\n",
       "    <tr style=\"text-align: right;\">\n",
       "      <th></th>\n",
       "      <th>date</th>\n",
       "      <th>city_code</th>\n",
       "      <th>company</th>\n",
       "      <th>atliqo_revenue_crores</th>\n",
       "      <th>arpu</th>\n",
       "      <th>active_users_lakhs</th>\n",
       "      <th>unsubscribed_users_lakhs</th>\n",
       "      <th>city_name</th>\n",
       "      <th>month_name</th>\n",
       "      <th>before/after_5g</th>\n",
       "      <th>time_period</th>\n",
       "    </tr>\n",
       "  </thead>\n",
       "  <tbody>\n",
       "    <tr>\n",
       "      <th>20</th>\n",
       "      <td>01-Feb-22</td>\n",
       "      <td>500001</td>\n",
       "      <td>Atliqo</td>\n",
       "      <td>34.47</td>\n",
       "      <td>193</td>\n",
       "      <td>17.86</td>\n",
       "      <td>1.13</td>\n",
       "      <td>Hyderabad</td>\n",
       "      <td>Feb</td>\n",
       "      <td>Before 5G</td>\n",
       "      <td>2</td>\n",
       "    </tr>\n",
       "  </tbody>\n",
       "</table>\n",
       "</div>"
      ],
      "text/plain": [
       "         date  city_code company  atliqo_revenue_crores  arpu  \\\n",
       "20  01-Feb-22     500001  Atliqo                  34.47   193   \n",
       "\n",
       "    active_users_lakhs  unsubscribed_users_lakhs  city_name month_name  \\\n",
       "20               17.86                      1.13  Hyderabad        Feb   \n",
       "\n",
       "   before/after_5g  time_period  \n",
       "20       Before 5G            2  "
      ]
     },
     "execution_count": 148,
     "metadata": {},
     "output_type": "execute_result"
    }
   ],
   "source": [
    "df.sample(1)"
   ]
  },
  {
   "cell_type": "code",
   "execution_count": 166,
   "id": "db6d627f",
   "metadata": {},
   "outputs": [
    {
     "data": {
      "image/png": "[encoded data removed]",
      "text/plain": [
       "<Figure size 1440x576 with 1 Axes>"
      ]
     },
     "metadata": {},
     "output_type": "display_data"
    }
   ],
   "source": [
    "plt.figure(figsize=(20,8))\n",
    "sns.set_style('darkgrid')\n",
    "sns.barplot(x='city_name',y='arpu',data=df,hue='before/after_5g')\n",
    "plt.xticks(rotation=45,size=14)\n",
    "plt.yticks(np.arange(0,250,10),size=12)\n",
    "\n",
    "plt.xlabel('City_Name',size=15)\n",
    "plt.ylabel('ARPU',size=15)\n",
    "\n",
    "plt.show()"
   ]
  },
  {
   "cell_type": "code",
   "execution_count": 170,
   "id": "14b591cc",
   "metadata": {},
   "outputs": [
    {
     "data": {
      "image/png": "[encoded data removed]",
      "text/plain": [
       "<Figure size 1440x576 with 1 Axes>"
      ]
     },
     "metadata": {},
     "output_type": "display_data"
    }
   ],
   "source": [
    "plt.figure(figsize=(20,8))\n",
    "sns.set_style('darkgrid')\n",
    "sns.barplot(x='city_name',y='active_users_lakhs',data=df,hue='before/after_5g')\n",
    "plt.xticks(rotation=45,size=14)\n",
    "plt.yticks(np.arange(0,40,10),size=12)\n",
    "\n",
    "plt.xlabel('City_Name',size=15)\n",
    "plt.ylabel('ARPU',size=15)\n",
    "\n",
    "plt.show()"
   ]
  },
  {
   "cell_type": "code",
   "execution_count": 175,
   "id": "17a1b516",
   "metadata": {},
   "outputs": [
    {
     "data": {
      "image/png": "[encoded data removed]",
      "text/plain": [
       "<Figure size 1440x576 with 1 Axes>"
      ]
     },
     "metadata": {},
     "output_type": "display_data"
    }
   ],
   "source": [
    "plt.figure(figsize=(20,8))\n",
    "sns.set_style('darkgrid')\n",
    "sns.barplot(x='city_name',y='unsubscribed_users_lakhs',data=df,hue='before/after_5g')\n",
    "plt.xticks(rotation=45,size=14)\n",
    "plt.yticks(np.arange(0,5),size=12)\n",
    "\n",
    "plt.xlabel('City_Name',size=15)\n",
    "plt.ylabel('ARPU',size=15)\n",
    "\n",
    "plt.show()"
   ]
  },
  {
   "cell_type": "code",
   "execution_count": 176,
   "id": "9e83feaf",
   "metadata": {},
   "outputs": [
    {
     "data": {
      "image/png": "[encoded data removed]",
      "text/plain": [
       "<Figure size 1440x576 with 1 Axes>"
      ]
     },
     "metadata": {},
     "output_type": "display_data"
    }
   ],
   "source": [
    "plt.figure(figsize=(20,8))\n",
    "sns.set_style('darkgrid')\n",
    "sns.barplot(x='month_name',y='arpu',data=df,hue='before/after_5g')\n",
    "plt.xticks(rotation=45,size=14)\n",
    "plt.yticks(np.arange(0,250,10),size=12)\n",
    "\n",
    "plt.xlabel('City_Name',size=15)\n",
    "plt.ylabel('ARPU',size=15)\n",
    "\n",
    "plt.show()"
   ]
  },
  {
   "cell_type": "code",
   "execution_count": 179,
   "id": "a3a001b9",
   "metadata": {},
   "outputs": [
    {
     "data": {
      "image/png": "[encoded data removed]",
      "text/plain": [
       "<Figure size 1440x576 with 1 Axes>"
      ]
     },
     "metadata": {},
     "output_type": "display_data"
    }
   ],
   "source": [
    "plt.figure(figsize=(20,8))\n",
    "sns.set_style('darkgrid')\n",
    "sns.barplot(x='month_name',y='unsubscribed_users_lakhs',data=df,hue='before/after_5g')\n",
    "plt.xticks(rotation=45,size=14)\n",
    "plt.yticks(np.arange(0,2,.5),size=12)\n",
    "\n",
    "plt.xlabel('City_Name',size=15)\n",
    "plt.ylabel('ARPU',size=15)\n",
    "\n",
    "plt.show()"
   ]
  },
  {
   "cell_type": "code",
   "execution_count": 180,
   "id": "97787ec4",
   "metadata": {},
   "outputs": [
    {
     "data": {
      "image/png": "[encoded data removed]",
      "text/plain": [
       "<Figure size 1440x576 with 1 Axes>"
      ]
     },
     "metadata": {},
     "output_type": "display_data"
    }
   ],
   "source": [
    "plt.figure(figsize=(20,8))\n",
    "sns.set_style('darkgrid')\n",
    "sns.barplot(x='month_name',y='active_users_lakhs',data=df,hue='before/after_5g')\n",
    "plt.xticks(rotation=45,size=14)\n",
    "plt.yticks(np.arange(0,2,.5),size=12)\n",
    "\n",
    "plt.xlabel('City_Name',size=15)\n",
    "plt.ylabel('ARPU',size=15)\n",
    "\n",
    "plt.show()"
   ]
  },
  {
   "cell_type": "code",
   "execution_count": 181,
   "id": "5d020564",
   "metadata": {},
   "outputs": [
    {
     "data": {
      "text/plain": [
       "<AxesSubplot:xlabel='month_name'>"
      ]
     },
     "execution_count": 181,
     "metadata": {},
     "output_type": "execute_result"
    },
    {
     "data": {
      "image/png": "[encoded data removed]",
      "text/plain": [
       "<Figure size 432x288 with 1 Axes>"
      ]
     },
     "metadata": {},
     "output_type": "display_data"
    }
   ],
   "source": [
    "bdf.groupby(by='month_name')['atliqo_revenue_crores'].sum().sort_values(ascending=True).plot(kind='bar')"
   ]
  },
  {
   "cell_type": "code",
   "execution_count": 182,
   "id": "c7f3943a",
   "metadata": {},
   "outputs": [
    {
     "data": {
      "text/plain": [
       "<AxesSubplot:xlabel='month_name'>"
      ]
     },
     "execution_count": 182,
     "metadata": {},
     "output_type": "execute_result"
    },
    {
     "data": {
      "image/png": "[encoded data removed]",
      "text/plain": [
       "<Figure size 432x288 with 1 Axes>"
      ]
     },
     "metadata": {},
     "output_type": "display_data"
    }
   ],
   "source": [
    "adf.groupby(by='month_name')['atliqo_revenue_crores'].sum().sort_values(ascending=True).plot(kind='bar')"
   ]
  },
  {
   "cell_type": "code",
   "execution_count": 184,
   "id": "baa4cbe4",
   "metadata": {},
   "outputs": [
    {
     "data": {
      "text/html": [
       "<div>\n",
       "<style scoped>\n",
       "    .dataframe tbody tr th:only-of-type {\n",
       "        vertical-align: middle;\n",
       "    }\n",
       "\n",
       "    .dataframe tbody tr th {\n",
       "        vertical-align: top;\n",
       "    }\n",
       "\n",
       "    .dataframe thead th {\n",
       "        text-align: right;\n",
       "    }\n",
       "</style>\n",
       "<table border=\"1\" class=\"dataframe\">\n",
       "  <thead>\n",
       "    <tr style=\"text-align: right;\">\n",
       "      <th></th>\n",
       "      <th>date</th>\n",
       "      <th>city_code</th>\n",
       "      <th>company</th>\n",
       "      <th>atliqo_revenue_crores</th>\n",
       "      <th>arpu</th>\n",
       "      <th>active_users_lakhs</th>\n",
       "      <th>unsubscribed_users_lakhs</th>\n",
       "      <th>city_name</th>\n",
       "      <th>month_name</th>\n",
       "      <th>before/after_5g</th>\n",
       "      <th>time_period</th>\n",
       "    </tr>\n",
       "  </thead>\n",
       "  <tbody>\n",
       "    <tr>\n",
       "      <th>0</th>\n",
       "      <td>01-Jan-22</td>\n",
       "      <td>400001</td>\n",
       "      <td>Atliqo</td>\n",
       "      <td>60.69</td>\n",
       "      <td>192</td>\n",
       "      <td>31.61</td>\n",
       "      <td>1.90</td>\n",
       "      <td>Mumbai</td>\n",
       "      <td>Jan</td>\n",
       "      <td>Before 5G</td>\n",
       "      <td>1</td>\n",
       "    </tr>\n",
       "    <tr>\n",
       "      <th>1</th>\n",
       "      <td>01-Jan-22</td>\n",
       "      <td>110001</td>\n",
       "      <td>Atliqo</td>\n",
       "      <td>42.71</td>\n",
       "      <td>175</td>\n",
       "      <td>24.41</td>\n",
       "      <td>1.31</td>\n",
       "      <td>Delhi</td>\n",
       "      <td>Jan</td>\n",
       "      <td>Before 5G</td>\n",
       "      <td>1</td>\n",
       "    </tr>\n",
       "    <tr>\n",
       "      <th>2</th>\n",
       "      <td>01-Jan-22</td>\n",
       "      <td>700001</td>\n",
       "      <td>Atliqo</td>\n",
       "      <td>36.91</td>\n",
       "      <td>175</td>\n",
       "      <td>21.09</td>\n",
       "      <td>1.25</td>\n",
       "      <td>Kolkata</td>\n",
       "      <td>Jan</td>\n",
       "      <td>Before 5G</td>\n",
       "      <td>1</td>\n",
       "    </tr>\n",
       "    <tr>\n",
       "      <th>3</th>\n",
       "      <td>01-Jan-22</td>\n",
       "      <td>560001</td>\n",
       "      <td>Atliqo</td>\n",
       "      <td>37.40</td>\n",
       "      <td>175</td>\n",
       "      <td>21.37</td>\n",
       "      <td>1.39</td>\n",
       "      <td>Bangalore</td>\n",
       "      <td>Jan</td>\n",
       "      <td>Before 5G</td>\n",
       "      <td>1</td>\n",
       "    </tr>\n",
       "    <tr>\n",
       "      <th>4</th>\n",
       "      <td>01-Jan-22</td>\n",
       "      <td>600001</td>\n",
       "      <td>Atliqo</td>\n",
       "      <td>30.80</td>\n",
       "      <td>203</td>\n",
       "      <td>15.17</td>\n",
       "      <td>1.12</td>\n",
       "      <td>Chennai</td>\n",
       "      <td>Jan</td>\n",
       "      <td>Before 5G</td>\n",
       "      <td>1</td>\n",
       "    </tr>\n",
       "  </tbody>\n",
       "</table>\n",
       "</div>"
      ],
      "text/plain": [
       "        date  city_code company  atliqo_revenue_crores  arpu  \\\n",
       "0  01-Jan-22     400001  Atliqo                  60.69   192   \n",
       "1  01-Jan-22     110001  Atliqo                  42.71   175   \n",
       "2  01-Jan-22     700001  Atliqo                  36.91   175   \n",
       "3  01-Jan-22     560001  Atliqo                  37.40   175   \n",
       "4  01-Jan-22     600001  Atliqo                  30.80   203   \n",
       "\n",
       "   active_users_lakhs  unsubscribed_users_lakhs  city_name month_name  \\\n",
       "0               31.61                      1.90     Mumbai        Jan   \n",
       "1               24.41                      1.31      Delhi        Jan   \n",
       "2               21.09                      1.25    Kolkata        Jan   \n",
       "3               21.37                      1.39  Bangalore        Jan   \n",
       "4               15.17                      1.12    Chennai        Jan   \n",
       "\n",
       "  before/after_5g  time_period  \n",
       "0       Before 5G            1  \n",
       "1       Before 5G            1  \n",
       "2       Before 5G            1  \n",
       "3       Before 5G            1  \n",
       "4       Before 5G            1  "
      ]
     },
     "execution_count": 184,
     "metadata": {},
     "output_type": "execute_result"
    }
   ],
   "source": [
    "df.head()"
   ]
  },
  {
   "cell_type": "code",
   "execution_count": 191,
   "id": "d886f9f1",
   "metadata": {},
   "outputs": [
    {
     "data": {
      "text/html": [
       "<div>\n",
       "<style scoped>\n",
       "    .dataframe tbody tr th:only-of-type {\n",
       "        vertical-align: middle;\n",
       "    }\n",
       "\n",
       "    .dataframe tbody tr th {\n",
       "        vertical-align: top;\n",
       "    }\n",
       "\n",
       "    .dataframe thead th {\n",
       "        text-align: right;\n",
       "    }\n",
       "</style>\n",
       "<table border=\"1\" class=\"dataframe\">\n",
       "  <thead>\n",
       "    <tr style=\"text-align: right;\">\n",
       "      <th></th>\n",
       "      <th>date</th>\n",
       "      <th>city_code</th>\n",
       "      <th>plan</th>\n",
       "      <th>plan_revenue_crores</th>\n",
       "      <th>plan_description</th>\n",
       "    </tr>\n",
       "  </thead>\n",
       "  <tbody>\n",
       "    <tr>\n",
       "      <th>0</th>\n",
       "      <td>01-Jan-22</td>\n",
       "      <td>400001</td>\n",
       "      <td>p1</td>\n",
       "      <td>6.26</td>\n",
       "      <td>Smart Recharge Pack (2 GB / Day Combo For 3 mo...</td>\n",
       "    </tr>\n",
       "    <tr>\n",
       "      <th>1</th>\n",
       "      <td>01-Jan-22</td>\n",
       "      <td>110001</td>\n",
       "      <td>p1</td>\n",
       "      <td>4.58</td>\n",
       "      <td>Smart Recharge Pack (2 GB / Day Combo For 3 mo...</td>\n",
       "    </tr>\n",
       "    <tr>\n",
       "      <th>2</th>\n",
       "      <td>01-Jan-22</td>\n",
       "      <td>700001</td>\n",
       "      <td>p1</td>\n",
       "      <td>4.29</td>\n",
       "      <td>Smart Recharge Pack (2 GB / Day Combo For 3 mo...</td>\n",
       "    </tr>\n",
       "    <tr>\n",
       "      <th>3</th>\n",
       "      <td>01-Jan-22</td>\n",
       "      <td>560001</td>\n",
       "      <td>p1</td>\n",
       "      <td>4.26</td>\n",
       "      <td>Smart Recharge Pack (2 GB / Day Combo For 3 mo...</td>\n",
       "    </tr>\n",
       "    <tr>\n",
       "      <th>4</th>\n",
       "      <td>01-Jan-22</td>\n",
       "      <td>600001</td>\n",
       "      <td>p1</td>\n",
       "      <td>3.60</td>\n",
       "      <td>Smart Recharge Pack (2 GB / Day Combo For 3 mo...</td>\n",
       "    </tr>\n",
       "    <tr>\n",
       "      <th>...</th>\n",
       "      <td>...</td>\n",
       "      <td>...</td>\n",
       "      <td>...</td>\n",
       "      <td>...</td>\n",
       "      <td>...</td>\n",
       "    </tr>\n",
       "    <tr>\n",
       "      <th>1195</th>\n",
       "      <td>01-Sep-22</td>\n",
       "      <td>800008</td>\n",
       "      <td>p13</td>\n",
       "      <td>0.19</td>\n",
       "      <td>Mini Ultra Saver Pack (750 MB/Day for 28 Days)</td>\n",
       "    </tr>\n",
       "    <tr>\n",
       "      <th>1196</th>\n",
       "      <td>01-Sep-22</td>\n",
       "      <td>641001</td>\n",
       "      <td>p13</td>\n",
       "      <td>0.21</td>\n",
       "      <td>Mini Ultra Saver Pack (750 MB/Day for 28 Days)</td>\n",
       "    </tr>\n",
       "    <tr>\n",
       "      <th>1197</th>\n",
       "      <td>01-Sep-22</td>\n",
       "      <td>160017</td>\n",
       "      <td>p13</td>\n",
       "      <td>0.15</td>\n",
       "      <td>Mini Ultra Saver Pack (750 MB/Day for 28 Days)</td>\n",
       "    </tr>\n",
       "    <tr>\n",
       "      <th>1198</th>\n",
       "      <td>01-Sep-22</td>\n",
       "      <td>122001</td>\n",
       "      <td>p13</td>\n",
       "      <td>0.09</td>\n",
       "      <td>Mini Ultra Saver Pack (750 MB/Day for 28 Days)</td>\n",
       "    </tr>\n",
       "    <tr>\n",
       "      <th>1199</th>\n",
       "      <td>01-Sep-22</td>\n",
       "      <td>492001</td>\n",
       "      <td>p13</td>\n",
       "      <td>0.08</td>\n",
       "      <td>Mini Ultra Saver Pack (750 MB/Day for 28 Days)</td>\n",
       "    </tr>\n",
       "  </tbody>\n",
       "</table>\n",
       "<p>1200 rows × 5 columns</p>\n",
       "</div>"
      ],
      "text/plain": [
       "           date  city_code plan  plan_revenue_crores  \\\n",
       "0     01-Jan-22     400001   p1                 6.26   \n",
       "1     01-Jan-22     110001   p1                 4.58   \n",
       "2     01-Jan-22     700001   p1                 4.29   \n",
       "3     01-Jan-22     560001   p1                 4.26   \n",
       "4     01-Jan-22     600001   p1                 3.60   \n",
       "...         ...        ...  ...                  ...   \n",
       "1195  01-Sep-22     800008  p13                 0.19   \n",
       "1196  01-Sep-22     641001  p13                 0.21   \n",
       "1197  01-Sep-22     160017  p13                 0.15   \n",
       "1198  01-Sep-22     122001  p13                 0.09   \n",
       "1199  01-Sep-22     492001  p13                 0.08   \n",
       "\n",
       "                                       plan_description  \n",
       "0     Smart Recharge Pack (2 GB / Day Combo For 3 mo...  \n",
       "1     Smart Recharge Pack (2 GB / Day Combo For 3 mo...  \n",
       "2     Smart Recharge Pack (2 GB / Day Combo For 3 mo...  \n",
       "3     Smart Recharge Pack (2 GB / Day Combo For 3 mo...  \n",
       "4     Smart Recharge Pack (2 GB / Day Combo For 3 mo...  \n",
       "...                                                 ...  \n",
       "1195     Mini Ultra Saver Pack (750 MB/Day for 28 Days)  \n",
       "1196     Mini Ultra Saver Pack (750 MB/Day for 28 Days)  \n",
       "1197     Mini Ultra Saver Pack (750 MB/Day for 28 Days)  \n",
       "1198     Mini Ultra Saver Pack (750 MB/Day for 28 Days)  \n",
       "1199     Mini Ultra Saver Pack (750 MB/Day for 28 Days)  \n",
       "\n",
       "[1200 rows x 5 columns]"
      ]
     },
     "execution_count": 191,
     "metadata": {},
     "output_type": "execute_result"
    }
   ],
   "source": [
    "new_plan"
   ]
  },
  {
   "cell_type": "code",
   "execution_count": 199,
   "id": "a65fc990",
   "metadata": {},
   "outputs": [
    {
     "data": {
      "text/plain": [
       "plan\n",
       "p1     419.93\n",
       "p2     297.53\n",
       "p3     261.54\n",
       "p4     195.22\n",
       "p11    185.95\n",
       "p5     165.61\n",
       "p6     124.37\n",
       "p12    116.13\n",
       "p7      73.80\n",
       "p8      43.43\n",
       "p13     31.45\n",
       "p9      22.68\n",
       "p10     13.11\n",
       "Name: plan_revenue_crores, dtype: float64"
      ]
     },
     "execution_count": 199,
     "metadata": {},
     "output_type": "execute_result"
    }
   ],
   "source": [
    "new_plan.groupby(by='plan')['plan_revenue_crores'].sum().sort_values(ascending=False)"
   ]
  },
  {
   "cell_type": "code",
   "execution_count": 200,
   "id": "df458924",
   "metadata": {},
   "outputs": [
    {
     "data": {
      "text/plain": [
       "date\n",
       "01-Jul-22    280.22\n",
       "01-Aug-22    279.08\n",
       "01-Sep-22    268.36\n",
       "01-Jun-22    240.72\n",
       "01-Feb-22    239.76\n",
       "01-Mar-22    229.24\n",
       "01-Apr-22    219.86\n",
       "01-Jan-22    193.51\n",
       "Name: plan_revenue_crores, dtype: float64"
      ]
     },
     "execution_count": 200,
     "metadata": {},
     "output_type": "execute_result"
    }
   ],
   "source": [
    "new_plan.groupby(by='date')['plan_revenue_crores'].sum().sort_values(ascending=False)"
   ]
  },
  {
   "cell_type": "code",
   "execution_count": 204,
   "id": "f07c58d7",
   "metadata": {},
   "outputs": [
    {
     "data": {
      "text/plain": [
       "Smart Recharge Pack (2 GB / Day Combo For 3 months)     120\n",
       "Super Saviour Pack (1.5 GB / Day Combo For 56 days)     120\n",
       "Elite saver Pack (1 GB/ Day) Valid: 28 Days             120\n",
       "Mini Data Saver Pack (500 MB/ Day) Valid: 20 Days       120\n",
       "Rs. 99 Full Talktime Combo Pack                         120\n",
       "Xstream Mobile Data Pack: 15GB Data | 28 days           120\n",
       "25 GB Combo 3G / 4G Data Pack                           120\n",
       "Daily Saviour (1 GB / Day) validity: 1 Day               60\n",
       "Combo TopUp: 14.95 Talktime and 300 MB data              60\n",
       "Big Combo Pack (6 GB / Day) validity: 3 Days             60\n",
       "Ultra Fast Mega Pack (3GB / Day Combo For 80 days)       60\n",
       "Ultra Duo Data Pack (1.8GB / Day Combo For 55 days )     60\n",
       "Mini Ultra Saver Pack (750 MB/Day for 28 Days)           60\n",
       "Name: plan_description, dtype: int64"
      ]
     },
     "execution_count": 204,
     "metadata": {},
     "output_type": "execute_result"
    }
   ],
   "source": [
    "new_plan['plan_description'].value_counts()"
   ]
  },
  {
   "cell_type": "code",
   "execution_count": null,
   "id": "d61e29da",
   "metadata": {},
   "outputs": [],
   "source": []
  }
 ],
 "metadata": {
  "kernelspec": {
   "display_name": "Python 3 (ipykernel)",
   "language": "python",
   "name": "python3"
  },
  "language_info": {
   "codemirror_mode": {
    "name": "ipython",
    "version": 3
   },
   "file_extension": ".py",
   "mimetype": "text/x-python",
   "name": "python",
   "nbconvert_exporter": "python",
   "pygments_lexer": "ipython3",
   "version": "3.9.7"
  }
 },
 "nbformat": 4,
 "nbformat_minor": 5
}
